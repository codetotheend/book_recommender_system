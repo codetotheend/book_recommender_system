{
 "cells": [
  {
   "cell_type": "markdown",
   "metadata": {},
   "source": [
    "# Collaborative Filtlering"
   ]
  },
  {
   "cell_type": "markdown",
   "metadata": {},
   "source": [
    "This is an updated recommender system using Collaborative filtering KNN on 'Book-Crossing Dataset'"
   ]
  },
  {
   "cell_type": "code",
   "execution_count": 39,
   "metadata": {},
   "outputs": [],
   "source": [
    "#import liabraries\n",
    "import pandas as pd\n",
    "import numpy as np\n",
    "from scipy.sparse import csr_matrix\n",
    "import sklearn\n",
    "from sklearn.neighbors import NearestNeighbors\n",
    "from sklearn.decomposition import TruncatedSVD\n",
    "import matplotlib.pyplot as plt\n",
    "import warnings"
   ]
  },
  {
   "cell_type": "code",
   "execution_count": 40,
   "metadata": {},
   "outputs": [
    {
     "name": "stderr",
     "output_type": "stream",
     "text": [
      "b'Skipping line 6452: expected 8 fields, saw 9\\nSkipping line 43667: expected 8 fields, saw 10\\nSkipping line 51751: expected 8 fields, saw 9\\n'\n",
      "b'Skipping line 92038: expected 8 fields, saw 9\\nSkipping line 104319: expected 8 fields, saw 9\\nSkipping line 121768: expected 8 fields, saw 9\\n'\n",
      "b'Skipping line 144058: expected 8 fields, saw 9\\nSkipping line 150789: expected 8 fields, saw 9\\nSkipping line 157128: expected 8 fields, saw 9\\nSkipping line 180189: expected 8 fields, saw 9\\nSkipping line 185738: expected 8 fields, saw 9\\n'\n",
      "b'Skipping line 209388: expected 8 fields, saw 9\\nSkipping line 220626: expected 8 fields, saw 9\\nSkipping line 227933: expected 8 fields, saw 11\\nSkipping line 228957: expected 8 fields, saw 10\\nSkipping line 245933: expected 8 fields, saw 9\\nSkipping line 251296: expected 8 fields, saw 9\\nSkipping line 259941: expected 8 fields, saw 9\\nSkipping line 261529: expected 8 fields, saw 9\\n'\n",
      "C:\\Users\\singh\\Anaconda3\\lib\\site-packages\\IPython\\core\\interactiveshell.py:3058: DtypeWarning: Columns (3) have mixed types. Specify dtype option on import or set low_memory=False.\n",
      "  interactivity=interactivity, compiler=compiler, result=result)\n"
     ]
    }
   ],
   "source": [
    "# upload and view dataset \n",
    "book_df = pd.read_csv(\"D:\\\\DS_portfolio\\\\Book_recommender\\\\BX-Books.csv\",sep=';', error_bad_lines=False, encoding=\"latin-1\")\n",
    "book_df.columns = ['ISBN', 'bookTitle', 'bookAuthor', 'yearOfPublication', 'publisher', 'imageUrlS', 'imageUrlM', 'imageUrlL']\n",
    "user_df = pd.read_csv('D:\\\\DS_portfolio\\\\Book_recommender\\\\BX-Users.csv', sep=';', error_bad_lines=False, encoding =\"latin-1\")\n",
    "user_df.columns=['User-ID', 'Location', 'Age']\n",
    "rating_df = pd.read_csv('D:\\\\DS_portfolio\\\\Book_recommender\\\\BX-Book-Ratings.csv', sep=';', error_bad_lines=False, encoding =\"latin-1\")\n",
    "rating_df.columns = ['User-ID', 'ISBN', 'Book-Rating']"
   ]
  },
  {
   "cell_type": "markdown",
   "metadata": {},
   "source": [
    "# Book data"
   ]
  },
  {
   "cell_type": "code",
   "execution_count": 3,
   "metadata": {},
   "outputs": [
    {
     "data": {
      "text/html": [
       "<div>\n",
       "<style scoped>\n",
       "    .dataframe tbody tr th:only-of-type {\n",
       "        vertical-align: middle;\n",
       "    }\n",
       "\n",
       "    .dataframe tbody tr th {\n",
       "        vertical-align: top;\n",
       "    }\n",
       "\n",
       "    .dataframe thead th {\n",
       "        text-align: right;\n",
       "    }\n",
       "</style>\n",
       "<table border=\"1\" class=\"dataframe\">\n",
       "  <thead>\n",
       "    <tr style=\"text-align: right;\">\n",
       "      <th></th>\n",
       "      <th>ISBN</th>\n",
       "      <th>bookTitle</th>\n",
       "      <th>bookAuthor</th>\n",
       "      <th>yearOfPublication</th>\n",
       "      <th>publisher</th>\n",
       "      <th>imageUrlS</th>\n",
       "      <th>imageUrlM</th>\n",
       "      <th>imageUrlL</th>\n",
       "    </tr>\n",
       "  </thead>\n",
       "  <tbody>\n",
       "    <tr>\n",
       "      <td>0</td>\n",
       "      <td>0195153448</td>\n",
       "      <td>Classical Mythology</td>\n",
       "      <td>Mark P. O. Morford</td>\n",
       "      <td>2002</td>\n",
       "      <td>Oxford University Press</td>\n",
       "      <td>http://images.amazon.com/images/P/0195153448.0...</td>\n",
       "      <td>http://images.amazon.com/images/P/0195153448.0...</td>\n",
       "      <td>http://images.amazon.com/images/P/0195153448.0...</td>\n",
       "    </tr>\n",
       "    <tr>\n",
       "      <td>1</td>\n",
       "      <td>0002005018</td>\n",
       "      <td>Clara Callan</td>\n",
       "      <td>Richard Bruce Wright</td>\n",
       "      <td>2001</td>\n",
       "      <td>HarperFlamingo Canada</td>\n",
       "      <td>http://images.amazon.com/images/P/0002005018.0...</td>\n",
       "      <td>http://images.amazon.com/images/P/0002005018.0...</td>\n",
       "      <td>http://images.amazon.com/images/P/0002005018.0...</td>\n",
       "    </tr>\n",
       "    <tr>\n",
       "      <td>2</td>\n",
       "      <td>0060973129</td>\n",
       "      <td>Decision in Normandy</td>\n",
       "      <td>Carlo D'Este</td>\n",
       "      <td>1991</td>\n",
       "      <td>HarperPerennial</td>\n",
       "      <td>http://images.amazon.com/images/P/0060973129.0...</td>\n",
       "      <td>http://images.amazon.com/images/P/0060973129.0...</td>\n",
       "      <td>http://images.amazon.com/images/P/0060973129.0...</td>\n",
       "    </tr>\n",
       "    <tr>\n",
       "      <td>3</td>\n",
       "      <td>0374157065</td>\n",
       "      <td>Flu: The Story of the Great Influenza Pandemic...</td>\n",
       "      <td>Gina Bari Kolata</td>\n",
       "      <td>1999</td>\n",
       "      <td>Farrar Straus Giroux</td>\n",
       "      <td>http://images.amazon.com/images/P/0374157065.0...</td>\n",
       "      <td>http://images.amazon.com/images/P/0374157065.0...</td>\n",
       "      <td>http://images.amazon.com/images/P/0374157065.0...</td>\n",
       "    </tr>\n",
       "    <tr>\n",
       "      <td>4</td>\n",
       "      <td>0393045218</td>\n",
       "      <td>The Mummies of Urumchi</td>\n",
       "      <td>E. J. W. Barber</td>\n",
       "      <td>1999</td>\n",
       "      <td>W. W. Norton &amp;amp; Company</td>\n",
       "      <td>http://images.amazon.com/images/P/0393045218.0...</td>\n",
       "      <td>http://images.amazon.com/images/P/0393045218.0...</td>\n",
       "      <td>http://images.amazon.com/images/P/0393045218.0...</td>\n",
       "    </tr>\n",
       "  </tbody>\n",
       "</table>\n",
       "</div>"
      ],
      "text/plain": [
       "         ISBN                                          bookTitle  \\\n",
       "0  0195153448                                Classical Mythology   \n",
       "1  0002005018                                       Clara Callan   \n",
       "2  0060973129                               Decision in Normandy   \n",
       "3  0374157065  Flu: The Story of the Great Influenza Pandemic...   \n",
       "4  0393045218                             The Mummies of Urumchi   \n",
       "\n",
       "             bookAuthor yearOfPublication                   publisher  \\\n",
       "0    Mark P. O. Morford              2002     Oxford University Press   \n",
       "1  Richard Bruce Wright              2001       HarperFlamingo Canada   \n",
       "2          Carlo D'Este              1991             HarperPerennial   \n",
       "3      Gina Bari Kolata              1999        Farrar Straus Giroux   \n",
       "4       E. J. W. Barber              1999  W. W. Norton &amp; Company   \n",
       "\n",
       "                                           imageUrlS  \\\n",
       "0  http://images.amazon.com/images/P/0195153448.0...   \n",
       "1  http://images.amazon.com/images/P/0002005018.0...   \n",
       "2  http://images.amazon.com/images/P/0060973129.0...   \n",
       "3  http://images.amazon.com/images/P/0374157065.0...   \n",
       "4  http://images.amazon.com/images/P/0393045218.0...   \n",
       "\n",
       "                                           imageUrlM  \\\n",
       "0  http://images.amazon.com/images/P/0195153448.0...   \n",
       "1  http://images.amazon.com/images/P/0002005018.0...   \n",
       "2  http://images.amazon.com/images/P/0060973129.0...   \n",
       "3  http://images.amazon.com/images/P/0374157065.0...   \n",
       "4  http://images.amazon.com/images/P/0393045218.0...   \n",
       "\n",
       "                                           imageUrlL  \n",
       "0  http://images.amazon.com/images/P/0195153448.0...  \n",
       "1  http://images.amazon.com/images/P/0002005018.0...  \n",
       "2  http://images.amazon.com/images/P/0060973129.0...  \n",
       "3  http://images.amazon.com/images/P/0374157065.0...  \n",
       "4  http://images.amazon.com/images/P/0393045218.0...  "
      ]
     },
     "execution_count": 3,
     "metadata": {},
     "output_type": "execute_result"
    }
   ],
   "source": [
    "book_df.head()"
   ]
  },
  {
   "cell_type": "code",
   "execution_count": 4,
   "metadata": {},
   "outputs": [],
   "source": [
    "#drop urls\n",
    "book_df.drop(['imageUrlS', 'imageUrlL', 'imageUrlM'],axis=1,inplace=True)"
   ]
  },
  {
   "cell_type": "code",
   "execution_count": 5,
   "metadata": {},
   "outputs": [
    {
     "data": {
      "text/html": [
       "<div>\n",
       "<style scoped>\n",
       "    .dataframe tbody tr th:only-of-type {\n",
       "        vertical-align: middle;\n",
       "    }\n",
       "\n",
       "    .dataframe tbody tr th {\n",
       "        vertical-align: top;\n",
       "    }\n",
       "\n",
       "    .dataframe thead th {\n",
       "        text-align: right;\n",
       "    }\n",
       "</style>\n",
       "<table border=\"1\" class=\"dataframe\">\n",
       "  <thead>\n",
       "    <tr style=\"text-align: right;\">\n",
       "      <th></th>\n",
       "      <th>ISBN</th>\n",
       "      <th>bookTitle</th>\n",
       "      <th>bookAuthor</th>\n",
       "      <th>yearOfPublication</th>\n",
       "      <th>publisher</th>\n",
       "    </tr>\n",
       "  </thead>\n",
       "  <tbody>\n",
       "    <tr>\n",
       "      <td>0</td>\n",
       "      <td>0195153448</td>\n",
       "      <td>Classical Mythology</td>\n",
       "      <td>Mark P. O. Morford</td>\n",
       "      <td>2002</td>\n",
       "      <td>Oxford University Press</td>\n",
       "    </tr>\n",
       "    <tr>\n",
       "      <td>1</td>\n",
       "      <td>0002005018</td>\n",
       "      <td>Clara Callan</td>\n",
       "      <td>Richard Bruce Wright</td>\n",
       "      <td>2001</td>\n",
       "      <td>HarperFlamingo Canada</td>\n",
       "    </tr>\n",
       "    <tr>\n",
       "      <td>2</td>\n",
       "      <td>0060973129</td>\n",
       "      <td>Decision in Normandy</td>\n",
       "      <td>Carlo D'Este</td>\n",
       "      <td>1991</td>\n",
       "      <td>HarperPerennial</td>\n",
       "    </tr>\n",
       "    <tr>\n",
       "      <td>3</td>\n",
       "      <td>0374157065</td>\n",
       "      <td>Flu: The Story of the Great Influenza Pandemic...</td>\n",
       "      <td>Gina Bari Kolata</td>\n",
       "      <td>1999</td>\n",
       "      <td>Farrar Straus Giroux</td>\n",
       "    </tr>\n",
       "    <tr>\n",
       "      <td>4</td>\n",
       "      <td>0393045218</td>\n",
       "      <td>The Mummies of Urumchi</td>\n",
       "      <td>E. J. W. Barber</td>\n",
       "      <td>1999</td>\n",
       "      <td>W. W. Norton &amp;amp; Company</td>\n",
       "    </tr>\n",
       "  </tbody>\n",
       "</table>\n",
       "</div>"
      ],
      "text/plain": [
       "         ISBN                                          bookTitle  \\\n",
       "0  0195153448                                Classical Mythology   \n",
       "1  0002005018                                       Clara Callan   \n",
       "2  0060973129                               Decision in Normandy   \n",
       "3  0374157065  Flu: The Story of the Great Influenza Pandemic...   \n",
       "4  0393045218                             The Mummies of Urumchi   \n",
       "\n",
       "             bookAuthor yearOfPublication                   publisher  \n",
       "0    Mark P. O. Morford              2002     Oxford University Press  \n",
       "1  Richard Bruce Wright              2001       HarperFlamingo Canada  \n",
       "2          Carlo D'Este              1991             HarperPerennial  \n",
       "3      Gina Bari Kolata              1999        Farrar Straus Giroux  \n",
       "4       E. J. W. Barber              1999  W. W. Norton &amp; Company  "
      ]
     },
     "execution_count": 5,
     "metadata": {},
     "output_type": "execute_result"
    }
   ],
   "source": [
    "book_df.head()"
   ]
  },
  {
   "cell_type": "markdown",
   "metadata": {},
   "source": [
    "# User Data"
   ]
  },
  {
   "cell_type": "code",
   "execution_count": 6,
   "metadata": {},
   "outputs": [
    {
     "data": {
      "text/html": [
       "<div>\n",
       "<style scoped>\n",
       "    .dataframe tbody tr th:only-of-type {\n",
       "        vertical-align: middle;\n",
       "    }\n",
       "\n",
       "    .dataframe tbody tr th {\n",
       "        vertical-align: top;\n",
       "    }\n",
       "\n",
       "    .dataframe thead th {\n",
       "        text-align: right;\n",
       "    }\n",
       "</style>\n",
       "<table border=\"1\" class=\"dataframe\">\n",
       "  <thead>\n",
       "    <tr style=\"text-align: right;\">\n",
       "      <th></th>\n",
       "      <th>User-ID</th>\n",
       "      <th>Location</th>\n",
       "      <th>Age</th>\n",
       "    </tr>\n",
       "  </thead>\n",
       "  <tbody>\n",
       "    <tr>\n",
       "      <td>0</td>\n",
       "      <td>1</td>\n",
       "      <td>nyc, new york, usa</td>\n",
       "      <td>NaN</td>\n",
       "    </tr>\n",
       "    <tr>\n",
       "      <td>1</td>\n",
       "      <td>2</td>\n",
       "      <td>stockton, california, usa</td>\n",
       "      <td>18.0</td>\n",
       "    </tr>\n",
       "    <tr>\n",
       "      <td>2</td>\n",
       "      <td>3</td>\n",
       "      <td>moscow, yukon territory, russia</td>\n",
       "      <td>NaN</td>\n",
       "    </tr>\n",
       "    <tr>\n",
       "      <td>3</td>\n",
       "      <td>4</td>\n",
       "      <td>porto, v.n.gaia, portugal</td>\n",
       "      <td>17.0</td>\n",
       "    </tr>\n",
       "    <tr>\n",
       "      <td>4</td>\n",
       "      <td>5</td>\n",
       "      <td>farnborough, hants, united kingdom</td>\n",
       "      <td>NaN</td>\n",
       "    </tr>\n",
       "  </tbody>\n",
       "</table>\n",
       "</div>"
      ],
      "text/plain": [
       "   User-ID                            Location   Age\n",
       "0        1                  nyc, new york, usa   NaN\n",
       "1        2           stockton, california, usa  18.0\n",
       "2        3     moscow, yukon territory, russia   NaN\n",
       "3        4           porto, v.n.gaia, portugal  17.0\n",
       "4        5  farnborough, hants, united kingdom   NaN"
      ]
     },
     "execution_count": 6,
     "metadata": {},
     "output_type": "execute_result"
    }
   ],
   "source": [
    "user_df.head()"
   ]
  },
  {
   "cell_type": "markdown",
   "metadata": {},
   "source": [
    "# Rating Data"
   ]
  },
  {
   "cell_type": "code",
   "execution_count": 7,
   "metadata": {},
   "outputs": [
    {
     "data": {
      "text/html": [
       "<div>\n",
       "<style scoped>\n",
       "    .dataframe tbody tr th:only-of-type {\n",
       "        vertical-align: middle;\n",
       "    }\n",
       "\n",
       "    .dataframe tbody tr th {\n",
       "        vertical-align: top;\n",
       "    }\n",
       "\n",
       "    .dataframe thead th {\n",
       "        text-align: right;\n",
       "    }\n",
       "</style>\n",
       "<table border=\"1\" class=\"dataframe\">\n",
       "  <thead>\n",
       "    <tr style=\"text-align: right;\">\n",
       "      <th></th>\n",
       "      <th>User-ID</th>\n",
       "      <th>ISBN</th>\n",
       "      <th>Book-Rating</th>\n",
       "    </tr>\n",
       "  </thead>\n",
       "  <tbody>\n",
       "    <tr>\n",
       "      <td>0</td>\n",
       "      <td>276725</td>\n",
       "      <td>034545104X</td>\n",
       "      <td>0</td>\n",
       "    </tr>\n",
       "    <tr>\n",
       "      <td>1</td>\n",
       "      <td>276726</td>\n",
       "      <td>0155061224</td>\n",
       "      <td>5</td>\n",
       "    </tr>\n",
       "    <tr>\n",
       "      <td>2</td>\n",
       "      <td>276727</td>\n",
       "      <td>0446520802</td>\n",
       "      <td>0</td>\n",
       "    </tr>\n",
       "    <tr>\n",
       "      <td>3</td>\n",
       "      <td>276729</td>\n",
       "      <td>052165615X</td>\n",
       "      <td>3</td>\n",
       "    </tr>\n",
       "    <tr>\n",
       "      <td>4</td>\n",
       "      <td>276729</td>\n",
       "      <td>0521795028</td>\n",
       "      <td>6</td>\n",
       "    </tr>\n",
       "  </tbody>\n",
       "</table>\n",
       "</div>"
      ],
      "text/plain": [
       "   User-ID        ISBN  Book-Rating\n",
       "0   276725  034545104X            0\n",
       "1   276726  0155061224            5\n",
       "2   276727  0446520802            0\n",
       "3   276729  052165615X            3\n",
       "4   276729  0521795028            6"
      ]
     },
     "execution_count": 7,
     "metadata": {},
     "output_type": "execute_result"
    }
   ],
   "source": [
    "rating_df.head()"
   ]
  },
  {
   "cell_type": "markdown",
   "metadata": {},
   "source": [
    "# For the statistical significance we will look into the popular books, books with 100 or more ratings"
   ]
  },
  {
   "cell_type": "markdown",
   "metadata": {},
   "source": [
    "We merge book and rating data, keep only rating, userid, isbn and book title columns"
   ]
  },
  {
   "cell_type": "code",
   "execution_count": 8,
   "metadata": {},
   "outputs": [
    {
     "data": {
      "text/html": [
       "<div>\n",
       "<style scoped>\n",
       "    .dataframe tbody tr th:only-of-type {\n",
       "        vertical-align: middle;\n",
       "    }\n",
       "\n",
       "    .dataframe tbody tr th {\n",
       "        vertical-align: top;\n",
       "    }\n",
       "\n",
       "    .dataframe thead th {\n",
       "        text-align: right;\n",
       "    }\n",
       "</style>\n",
       "<table border=\"1\" class=\"dataframe\">\n",
       "  <thead>\n",
       "    <tr style=\"text-align: right;\">\n",
       "      <th></th>\n",
       "      <th>ISBN</th>\n",
       "      <th>bookTitle</th>\n",
       "      <th>User-ID</th>\n",
       "      <th>Book-Rating</th>\n",
       "    </tr>\n",
       "  </thead>\n",
       "  <tbody>\n",
       "    <tr>\n",
       "      <td>0</td>\n",
       "      <td>0195153448</td>\n",
       "      <td>Classical Mythology</td>\n",
       "      <td>2</td>\n",
       "      <td>0</td>\n",
       "    </tr>\n",
       "    <tr>\n",
       "      <td>1</td>\n",
       "      <td>0002005018</td>\n",
       "      <td>Clara Callan</td>\n",
       "      <td>8</td>\n",
       "      <td>5</td>\n",
       "    </tr>\n",
       "    <tr>\n",
       "      <td>2</td>\n",
       "      <td>0002005018</td>\n",
       "      <td>Clara Callan</td>\n",
       "      <td>11400</td>\n",
       "      <td>0</td>\n",
       "    </tr>\n",
       "    <tr>\n",
       "      <td>3</td>\n",
       "      <td>0002005018</td>\n",
       "      <td>Clara Callan</td>\n",
       "      <td>11676</td>\n",
       "      <td>8</td>\n",
       "    </tr>\n",
       "    <tr>\n",
       "      <td>4</td>\n",
       "      <td>0002005018</td>\n",
       "      <td>Clara Callan</td>\n",
       "      <td>41385</td>\n",
       "      <td>0</td>\n",
       "    </tr>\n",
       "  </tbody>\n",
       "</table>\n",
       "</div>"
      ],
      "text/plain": [
       "         ISBN            bookTitle  User-ID  Book-Rating\n",
       "0  0195153448  Classical Mythology        2            0\n",
       "1  0002005018         Clara Callan        8            5\n",
       "2  0002005018         Clara Callan    11400            0\n",
       "3  0002005018         Clara Callan    11676            8\n",
       "4  0002005018         Clara Callan    41385            0"
      ]
     },
     "execution_count": 8,
     "metadata": {},
     "output_type": "execute_result"
    }
   ],
   "source": [
    "book_rating = pd.merge(book_df,rating_df, on ='ISBN')\n",
    "columns = ['bookAuthor','yearOfPublication','publisher']\n",
    "book_rating = book_rating.drop(columns, axis=1)\n",
    "book_rating.head()"
   ]
  },
  {
   "cell_type": "markdown",
   "metadata": {},
   "source": [
    "we now group by book titles and create a new column for total rating count."
   ]
  },
  {
   "cell_type": "code",
   "execution_count": 9,
   "metadata": {},
   "outputs": [],
   "source": [
    "book_rating = book_rating.dropna(axis=0, subset=['bookTitle'])"
   ]
  },
  {
   "cell_type": "code",
   "execution_count": 10,
   "metadata": {},
   "outputs": [
    {
     "data": {
      "text/html": [
       "<div>\n",
       "<style scoped>\n",
       "    .dataframe tbody tr th:only-of-type {\n",
       "        vertical-align: middle;\n",
       "    }\n",
       "\n",
       "    .dataframe tbody tr th {\n",
       "        vertical-align: top;\n",
       "    }\n",
       "\n",
       "    .dataframe thead th {\n",
       "        text-align: right;\n",
       "    }\n",
       "</style>\n",
       "<table border=\"1\" class=\"dataframe\">\n",
       "  <thead>\n",
       "    <tr style=\"text-align: right;\">\n",
       "      <th></th>\n",
       "      <th>bookTitle</th>\n",
       "      <th>total_rating_count</th>\n",
       "    </tr>\n",
       "  </thead>\n",
       "  <tbody>\n",
       "    <tr>\n",
       "      <td>0</td>\n",
       "      <td>A Light in the Storm: The Civil War Diary of ...</td>\n",
       "      <td>4</td>\n",
       "    </tr>\n",
       "    <tr>\n",
       "      <td>1</td>\n",
       "      <td>Always Have Popsicles</td>\n",
       "      <td>1</td>\n",
       "    </tr>\n",
       "    <tr>\n",
       "      <td>2</td>\n",
       "      <td>Apple Magic (The Collector's series)</td>\n",
       "      <td>1</td>\n",
       "    </tr>\n",
       "    <tr>\n",
       "      <td>3</td>\n",
       "      <td>Ask Lily (Young Women of Faith: Lily Series, ...</td>\n",
       "      <td>1</td>\n",
       "    </tr>\n",
       "    <tr>\n",
       "      <td>4</td>\n",
       "      <td>Beyond IBM: Leadership Marketing and Finance ...</td>\n",
       "      <td>1</td>\n",
       "    </tr>\n",
       "  </tbody>\n",
       "</table>\n",
       "</div>"
      ],
      "text/plain": [
       "                                           bookTitle  total_rating_count\n",
       "0   A Light in the Storm: The Civil War Diary of ...                   4\n",
       "1                              Always Have Popsicles                   1\n",
       "2               Apple Magic (The Collector's series)                   1\n",
       "3   Ask Lily (Young Women of Faith: Lily Series, ...                   1\n",
       "4   Beyond IBM: Leadership Marketing and Finance ...                   1"
      ]
     },
     "execution_count": 10,
     "metadata": {},
     "output_type": "execute_result"
    }
   ],
   "source": [
    "rating_count = (book_rating.groupby('bookTitle')['Book-Rating'].count().reset_index().rename(columns = {'Book-Rating':'total_rating_count'})[['bookTitle','total_rating_count']])\n",
    "rating_count.head()"
   ]
  },
  {
   "cell_type": "markdown",
   "metadata": {},
   "source": [
    "We will combine rating data with total rating data to filter most rated books"
   ]
  },
  {
   "cell_type": "code",
   "execution_count": 14,
   "metadata": {},
   "outputs": [
    {
     "name": "stdout",
     "output_type": "stream",
     "text": [
      "               ISBN                                          bookTitle  \\\n",
      "0        0195153448                                Classical Mythology   \n",
      "1        0002005018                                       Clara Callan   \n",
      "2        0002005018                                       Clara Callan   \n",
      "3        0002005018                                       Clara Callan   \n",
      "4        0002005018                                       Clara Callan   \n",
      "...             ...                                                ...   \n",
      "1031131  0440400988                         There's a Bat in Bunk Five   \n",
      "1031132  0525447644                            From One to One Hundred   \n",
      "1031133  006008667X  Lily Dale : The True Story of the Town that Ta...   \n",
      "1031134  0192126040                        Republic (World's Classics)   \n",
      "1031135  0767409752  A Guided Tour of Rene Descartes' Meditations o...   \n",
      "\n",
      "         User-ID  Book-Rating  total_rating_count  \n",
      "0              2            0                   2  \n",
      "1              8            5                  14  \n",
      "2          11400            0                  14  \n",
      "3          11676            8                  14  \n",
      "4          41385            0                  14  \n",
      "...          ...          ...                 ...  \n",
      "1031131   276463            7                  15  \n",
      "1031132   276579            4                   1  \n",
      "1031133   276680            0                   1  \n",
      "1031134   276680            0                   1  \n",
      "1031135   276680            0                   1  \n",
      "\n",
      "[1031136 rows x 5 columns]\n"
     ]
    }
   ],
   "source": [
    "combined_rating = book_rating.merge(rating_count, left_on='bookTitle', right_on='bookTitle', how='left')\n",
    "print(combined_rating)"
   ]
  },
  {
   "cell_type": "markdown",
   "metadata": {},
   "source": [
    "explore the statistics of total_rating_count"
   ]
  },
  {
   "cell_type": "code",
   "execution_count": 15,
   "metadata": {},
   "outputs": [
    {
     "name": "stdout",
     "output_type": "stream",
     "text": [
      "count   241071.000\n",
      "mean         4.277\n",
      "std         16.739\n",
      "min          1.000\n",
      "25%          1.000\n",
      "50%          1.000\n",
      "75%          3.000\n",
      "max       2502.000\n",
      "Name: total_rating_count, dtype: float64\n"
     ]
    }
   ],
   "source": [
    "pd.set_option('display.float_format', lambda x: '%.3f' % x)\n",
    "print(rating_count['total_rating_count'].describe())"
   ]
  },
  {
   "cell_type": "code",
   "execution_count": 16,
   "metadata": {},
   "outputs": [
    {
     "name": "stdout",
     "output_type": "stream",
     "text": [
      "0.900    7.000\n",
      "0.910    8.000\n",
      "0.920    9.000\n",
      "0.930   10.000\n",
      "0.940   11.000\n",
      "0.950   13.000\n",
      "0.960   16.000\n",
      "0.970   20.000\n",
      "0.980   29.000\n",
      "0.990   50.000\n",
      "Name: total_rating_count, dtype: float64\n"
     ]
    }
   ],
   "source": [
    "print(rating_count['total_rating_count'].quantile(np.arange(.9, 1, .01)))"
   ]
  },
  {
   "cell_type": "markdown",
   "metadata": {},
   "source": [
    "rating_threshold =100"
   ]
  },
  {
   "cell_type": "code",
   "execution_count": 20,
   "metadata": {},
   "outputs": [
    {
     "name": "stdout",
     "output_type": "stream",
     "text": [
      "          ISBN               bookTitle  User-ID  Book-Rating  \\\n",
      "30  0399135782  The Kitchen God's Wife        8            0   \n",
      "31  0399135782  The Kitchen God's Wife    11676            9   \n",
      "32  0399135782  The Kitchen God's Wife    29526            9   \n",
      "33  0399135782  The Kitchen God's Wife    36836            0   \n",
      "34  0399135782  The Kitchen God's Wife    46398            9   \n",
      "\n",
      "    total_rating_count  \n",
      "30                 311  \n",
      "31                 311  \n",
      "32                 311  \n",
      "33                 311  \n",
      "34                 311  \n"
     ]
    }
   ],
   "source": [
    "rating_threshold = 100\n",
    "most_rated_book = combined_rating.query('total_rating_count >= @rating_threshold')\n",
    "print(most_rated_book.head())"
   ]
  },
  {
   "cell_type": "markdown",
   "metadata": {},
   "source": [
    "# Filtering user data on location base"
   ]
  },
  {
   "cell_type": "code",
   "execution_count": 26,
   "metadata": {},
   "outputs": [
    {
     "name": "stdout",
     "output_type": "stream",
     "text": [
      "           ISBN                             bookTitle  User-ID  Book-Rating  \\\n",
      "33   0440234743                         The Testament   277478            0   \n",
      "167  0440234743                         The Testament    94074            0   \n",
      "331  0440234743                         The Testament   199092            3   \n",
      "536  0452264464  Beloved (Plume Contemporary Fiction)   116210            0   \n",
      "564  0452264464  Beloved (Plume Contemporary Fiction)   157799            5   \n",
      "\n",
      "     total_rating_count                                Location  \n",
      "33                  617     schiedam, zuid-holland, netherlands  \n",
      "167                 617       zevenaar, gelderland, netherlands  \n",
      "331                 617    rotterdam, zuid-holland, netherlands  \n",
      "536                 180  oisterwijk, noord-brabant, netherlands  \n",
      "564                 180   heemstede, noord holland, netherlands  \n"
     ]
    }
   ],
   "source": [
    "combined = most_rated_book.merge(user_df, left_on='User-ID', right_on='User-ID', how='left')\n",
    "\n",
    "nl_user_rating = combined[combined['Location'].str.contains(\"netherlands\")]\n",
    "nl_user_rating = nl_user_rating.drop('Age', axis=1)\n",
    "print(nl_user_rating.head())"
   ]
  },
  {
   "cell_type": "markdown",
   "metadata": {},
   "source": [
    "# KNN implementation"
   ]
  },
  {
   "cell_type": "markdown",
   "metadata": {},
   "source": [
    "we convert the table into 2D matrix and fill the missing values with zero"
   ]
  },
  {
   "cell_type": "code",
   "execution_count": 27,
   "metadata": {},
   "outputs": [],
   "source": [
    "nl_user_rating = nl_user_rating.drop_duplicates(['User-ID', 'bookTitle'])\n",
    "nl_user_rating_pivot = nl_user_rating.pivot(index='bookTitle', columns='User-ID',\n",
    "                                                          values='Book-Rating').fillna(0)\n",
    "nl_user_rating_matrix = csr_matrix(nl_user_rating_pivot.values)"
   ]
  },
  {
   "cell_type": "markdown",
   "metadata": {},
   "source": [
    "# Finding the nearest neighbors"
   ]
  },
  {
   "cell_type": "code",
   "execution_count": 30,
   "metadata": {},
   "outputs": [
    {
     "data": {
      "text/plain": [
       "NearestNeighbors(algorithm='brute', leaf_size=30, metric='cosine',\n",
       "                 metric_params=None, n_jobs=1, n_neighbors=5, p=2, radius=1.0)"
      ]
     },
     "execution_count": 30,
     "metadata": {},
     "output_type": "execute_result"
    }
   ],
   "source": [
    "model_knn = NearestNeighbors(metric='cosine', algorithm='brute')\n",
    "model_knn.fit(nl_user_rating_matrix)\n",
    "NearestNeighbors(algorithm='brute', leaf_size=30, metric='cosine',\n",
    "                 metric_params=None, n_jobs=1, n_neighbors=5, p=2, radius=1.0)\n"
   ]
  },
  {
   "cell_type": "markdown",
   "metadata": {},
   "source": [
    "# Test the model and make recommendations"
   ]
  },
  {
   "cell_type": "code",
   "execution_count": 32,
   "metadata": {},
   "outputs": [
    {
     "name": "stdout",
     "output_type": "stream",
     "text": [
      "Recommendations for The Pilot's Wife : A Novel:\n",
      "\n",
      "1: The Best Laid Plans, with distance of 1.0:\n",
      "2: The Amazing Adventures of Kavalier &amp; Clay, with distance of 1.0:\n",
      "3: The Amber Spyglass (His Dark Materials, Book 3), with distance of 1.0:\n",
      "4: The Alchemist: A Fable About Following Your Dream, with distance of 1.0:\n",
      "5: The Bean Trees, with distance of 1.0:\n"
     ]
    }
   ],
   "source": [
    "query_index = np.random.choice(nl_user_rating_pivot.shape[0])\n",
    "distances, indices = model_knn.kneighbors(nl_user_rating_pivot.iloc[query_index, :].values.reshape(1, -1),\n",
    "                                          n_neighbors=6)\n",
    "for i in range(0, len(distances.flatten())):\n",
    "    if i == 0:\n",
    "        print('Recommendations for {0}:\\n'.format(nl_user_rating_pivot.index[query_index]))\n",
    "    else:\n",
    "        print('{0}: {1}, with distance of {2}:'.format(i, nl_user_rating_pivot.index[indices.flatten()[i]],\n",
    "                                                       distances.flatten()[i]))\n",
    "\n"
   ]
  },
  {
   "cell_type": "markdown",
   "metadata": {},
   "source": [
    "# Matrix factorization"
   ]
  },
  {
   "cell_type": "markdown",
   "metadata": {},
   "source": [
    "Now we will use matrix factorization technique of collaborative filtering.\n",
    "The Matrix Factorization techniques are usually more effective, because they allow users to discover the latent (hidden)features underlying the interactions between users and items (books)."
   ]
  },
  {
   "cell_type": "markdown",
   "metadata": {},
   "source": [
    "# Singular Value Decomposition Model"
   ]
  },
  {
   "cell_type": "markdown",
   "metadata": {},
   "source": [
    "SVD is one of the matrix factorization model we will use here. Similar to KNN we wil make a pivot table and fill the missing values with zero"
   ]
  },
  {
   "cell_type": "code",
   "execution_count": 33,
   "metadata": {},
   "outputs": [
    {
     "name": "stdout",
     "output_type": "stream",
     "text": [
      "bookTitle  24 Hours  84 Charing Cross Road  A Case of Need  \\\n",
      "User-ID                                                      \n",
      "695           0.000                  0.000           0.000   \n",
      "2359          0.000                  0.000           0.000   \n",
      "5333          0.000                  0.000           0.000   \n",
      "7856          0.000                  0.000           0.000   \n",
      "10681         0.000                  0.000           0.000   \n",
      "\n",
      "bookTitle  A Child Called \\It\\\": One Child's Courage to Survive\"  \\\n",
      "User-ID                                                            \n",
      "695                                                    0.000       \n",
      "2359                                                   0.000       \n",
      "5333                                                   0.000       \n",
      "7856                                                   0.000       \n",
      "10681                                                  0.000       \n",
      "\n",
      "bookTitle  A Darkness More Than Night  \\\n",
      "User-ID                                 \n",
      "695                             0.000   \n",
      "2359                            0.000   \n",
      "5333                            0.000   \n",
      "7856                            0.000   \n",
      "10681                           0.000   \n",
      "\n",
      "bookTitle  A Heartbreaking Work of Staggering Genius  A Man in Full  \\\n",
      "User-ID                                                               \n",
      "695                                            0.000          0.000   \n",
      "2359                                           0.000          0.000   \n",
      "5333                                           0.000          0.000   \n",
      "7856                                           0.000          0.000   \n",
      "10681                                          0.000          0.000   \n",
      "\n",
      "bookTitle  A Map of the World  A Painted House  A Prayer for Owen Meany  ...  \\\n",
      "User-ID                                                                  ...   \n",
      "695                     0.000            0.000                    0.000  ...   \n",
      "2359                    0.000            0.000                    0.000  ...   \n",
      "5333                    0.000            0.000                    0.000  ...   \n",
      "7856                    0.000            0.000                    0.000  ...   \n",
      "10681                   0.000            0.000                    0.000  ...   \n",
      "\n",
      "bookTitle  White Oleander : A Novel  White Teeth: A Novel  \\\n",
      "User-ID                                                     \n",
      "695                           0.000                 0.000   \n",
      "2359                          0.000                 0.000   \n",
      "5333                          0.000                 0.000   \n",
      "7856                          0.000                 0.000   \n",
      "10681                         0.000                 0.000   \n",
      "\n",
      "bookTitle  Wicked: The Life and Times of the Wicked Witch of the West  \\\n",
      "User-ID                                                                 \n",
      "695                                                    0.000            \n",
      "2359                                                   0.000            \n",
      "5333                                                   0.000            \n",
      "7856                                                   0.000            \n",
      "10681                                                  0.000            \n",
      "\n",
      "bookTitle  Wild Animus  Wish You Well  Women Who Run with the Wolves  \\\n",
      "User-ID                                                                \n",
      "695              0.000          0.000                          0.000   \n",
      "2359             0.000          0.000                          0.000   \n",
      "5333             0.000          0.000                          0.000   \n",
      "7856             0.000          0.000                          0.000   \n",
      "10681            0.000          0.000                          0.000   \n",
      "\n",
      "bookTitle  Wuthering Heights  You Belong To Me  \\\n",
      "User-ID                                          \n",
      "695                    0.000             0.000   \n",
      "2359                   0.000             0.000   \n",
      "5333                   0.000             0.000   \n",
      "7856                   0.000             0.000   \n",
      "10681                  0.000             0.000   \n",
      "\n",
      "bookTitle  Zen and the Art of Motorcycle Maintenance: An Inquiry into Values  \\\n",
      "User-ID                                                                        \n",
      "695                                                    0.000                   \n",
      "2359                                                   0.000                   \n",
      "5333                                                   0.000                   \n",
      "7856                                                   0.000                   \n",
      "10681                                                  0.000                   \n",
      "\n",
      "bookTitle  \\O\\\" Is for Outlaw\"  \n",
      "User-ID                         \n",
      "695                      0.000  \n",
      "2359                     0.000  \n",
      "5333                     0.000  \n",
      "7856                     0.000  \n",
      "10681                    0.000  \n",
      "\n",
      "[5 rows x 375 columns]\n"
     ]
    }
   ],
   "source": [
    "nl_user_rating_pivot2 = nl_user_rating.pivot(index='User-ID', columns='bookTitle',\n",
    "                                                           values='Book-Rating').fillna(0)\n",
    "print(nl_user_rating_pivot2.head())\n",
    "\n"
   ]
  },
  {
   "cell_type": "code",
   "execution_count": 34,
   "metadata": {},
   "outputs": [
    {
     "data": {
      "text/plain": [
       "(196, 375)"
      ]
     },
     "execution_count": 34,
     "metadata": {},
     "output_type": "execute_result"
    }
   ],
   "source": [
    "nl_user_rating_pivot2.shape"
   ]
  },
  {
   "cell_type": "code",
   "execution_count": 36,
   "metadata": {},
   "outputs": [
    {
     "data": {
      "text/plain": [
       "(375, 196)"
      ]
     },
     "execution_count": 36,
     "metadata": {},
     "output_type": "execute_result"
    }
   ],
   "source": [
    "X = nl_user_rating_pivot2.values.T\n",
    "X.shape"
   ]
  },
  {
   "cell_type": "markdown",
   "metadata": {},
   "source": [
    "We then transpose this utility matrix, so that the bookTitles become rows and userIDs become columns.\n",
    "After using TruncatedSVD to decompose it, we fit it into the model for dimensionality reduction."
   ]
  },
  {
   "cell_type": "code",
   "execution_count": 37,
   "metadata": {},
   "outputs": [
    {
     "data": {
      "text/plain": [
       "(375, 12)"
      ]
     },
     "execution_count": 37,
     "metadata": {},
     "output_type": "execute_result"
    }
   ],
   "source": [
    "SVD = TruncatedSVD(n_components=12, random_state=17)\n",
    "matrix = SVD.fit_transform(X)\n",
    "matrix.shape"
   ]
  },
  {
   "cell_type": "markdown",
   "metadata": {},
   "source": [
    "We calculate the Pearson’s R correlation coefficient for every book pair in our final matrix."
   ]
  },
  {
   "cell_type": "code",
   "execution_count": 41,
   "metadata": {},
   "outputs": [],
   "source": [
    "warnings.filterwarnings(\"ignore\", category=RuntimeWarning)\n",
    "corr = np.corrcoef(matrix)"
   ]
  },
  {
   "cell_type": "markdown",
   "metadata": {},
   "source": [
    "To compare this with the results from kNN, we pick the book “The Alchemist: A Fable About Following Your Dream” to find the books that have high correlation coefficients (between 0.9 and 1.0) with it.\n"
   ]
  },
  {
   "cell_type": "code",
   "execution_count": 42,
   "metadata": {},
   "outputs": [
    {
     "name": "stdout",
     "output_type": "stream",
     "text": [
      "247\n"
     ]
    }
   ],
   "source": [
    "book_title = nl_user_rating_pivot2.columns\n",
    "book_list = list(book_title)\n",
    "\n",
    "coffey_hands = book_list.index(\"The Alchemist: A Fable About Following Your Dream\")\n",
    "print(coffey_hands)"
   ]
  },
  {
   "cell_type": "code",
   "execution_count": 43,
   "metadata": {},
   "outputs": [
    {
     "name": "stdout",
     "output_type": "stream",
     "text": [
      "['24 Hours', '84 Charing Cross Road', 'A Case of Need', 'A Child Called \\\\It\\\\\": One Child\\'s Courage to Survive\"', 'A Man in Full', 'A Map of the World', 'A Painted House', 'A Prayer for Owen Meany', \"A Thousand Acres (Ballantine Reader's Circle)\", 'A Time to Kill', 'A Walk in the Woods: Rediscovering America on the Appalachian Trail (Official Guides to the Appalachian Trail)', 'A Walk to Remember', 'A Widow for One Year', 'Abduction', 'About a Boy', 'About a Boy (Movie Tie-In)', 'Absolute Power', 'Acceptable Risk', 'Alias Grace', 'All That Remains (Kay Scarpetta Mysteries (Paperback))', 'American Gods', 'American Psycho (Vintage Contemporaries)', 'An Instance of the Fingerpost', \"Angela's Ashes (MMP) : A Memoir\", 'Angelas Ashes', 'Angels &amp; Demons', 'Basket Case', 'Bastard Out of Carolina', 'Beloved', 'Beloved (Plume Contemporary Fiction)', 'Breathing Lessons', \"Bridget Jones's Diary\", 'C Is for Corpse (Kinsey Millhone Mysteries (Paperback))', 'Carnal Innocence', 'Catch Me If You Can: The True Story of a Real Fake', 'Catering to Nobody', \"Charlotte's Web (Trophy Newbery)\", 'Charming Billy', 'Contagion', 'Cruel &amp; Unusual (Kay Scarpetta Mysteries (Paperback))', 'Cry Wolf', 'Daisy Fay and the Miracle Man', 'Dance upon the Air (Three Sisters Island Trilogy)', 'Daughter of Fortune', 'Deadly Decisions', 'Divine Secrets of the Ya-Ya Sisterhood: A Novel', 'Dolores Claiborne', \"Don't Sweat the Small Stuff and It's All Small Stuff : Simple Ways to Keep the Little Things from Taking Over Your Life (Don't Sweat the Small Stuff Series)\", \"Dr. Atkins' New Diet Revolution\", 'Dragonfly in Amber', 'Dreamcatcher', \"Dude, Where's My Country?\", 'Engaging The Enemy', 'Face the Fire (Three Sisters Island Trilogy)', 'Faking It', 'Fatal Cure', 'Fingersmith', 'Fried Green Tomatoes at the Whistle Stop Cafe', \"From Potter's Field\", \"Full House (Janet Evanovich's Full Series)\", 'Girl with a Pearl Earring', 'Good Omens', 'Hannibal', 'Harry Potter and the Chamber of Secrets (Book 2)', 'Harry Potter and the Order of the Phoenix (Book 5)', \"Harry Potter and the Sorcerer's Stone (Harry Potter (Paperback))\", 'Heaven and Earth (Three Sisters Island Trilogy)', 'Homeport', 'How Stella Got Her Groove Back', 'I Know Why the Caged Bird Sings', 'If Only It Were True', 'Ladder of Years', 'Last Chance Saloon', 'Last Man Standing', 'Life of Pi', 'Lucky : A Memoir', 'Memoirs of a Geisha Uk', 'Men Are from Mars, Women Are from Venus: A Practical Guide for Improving Communication and Getting What You Want in Your Relationships', 'Message in a Bottle', 'Middlesex: A Novel', 'Midnight in the Garden of Good and Evil', 'Midnight in the Garden of Good and Evil: A Savannah Story', 'Misery', 'Mortal Fear', 'Naked', 'Neverwhere', 'Night Sins', 'Nothing Lasts Forever', \"One Flew Over the Cuckoo's Nest\", 'One Hundred Years of Solitude', 'Oryx and Crake', 'Over the Edge', 'P Is for Peril (Kinsey Millhone Mysteries (Hardcover))', 'Pigs in Heaven', 'Pop Goes the Weasel', 'Possessing the Secret of Joy', 'Possession : A Romance', 'Prey', 'Prodigal Summer', 'Prodigal Summer: A Novel', 'Q Is for Quarry', 'Round Ireland With a Fridge', 'SHIPPING NEWS', 'STONES FROM THE RIVER', 'Sanctuary', 'Saving Faith', 'Seabiscuit', \"She's Come Undone (Oprah's Book Club (Paperback))\", 'Shell Seekers', 'Shock', 'Shopaholic Ties the Knot', 'Simple Abundance:  A Daybook of Comfort and Joy', \"Smilla's Sense of Snow\", 'Snow Falling on Cedars', \"Song of Solomon (Oprah's Book Club (Paperback))\", 'Southern Cross', 'Sphere', 'Standing in the Rainbow', 'Summer Sisters', \"Suzanne's Diary for Nicholas\", 'Tell Me Your Dreams', 'The Bean Trees', 'The Best Laid Plans', 'The Blind Assassin', 'The Boy Next Door', 'The Client', 'The Color Purple', 'The Color of Magic', 'The Curious Incident of the Dog in the Night-Time (Today Show Book Club #13)', 'The Da Vinci Code', 'The Dead Zone', 'The Divine Secrets of the Ya-Ya Sisterhood: A Novel', 'The Door to December', 'The Eye of the World (The Wheel of Time, Book 1)', 'The Five People You Meet in Heaven', \"The Girls' Guide to Hunting and Fishing\", 'The God of Small Things', 'The Golden Compass (His Dark Materials, Book 1)', \"The Handmaid's Tale : A Novel\", 'The Heart of a Woman', \"The Hitchhiker's Guide to the Galaxy\", 'The Horse Whisperer', 'The Hours: A Novel', 'The Hundred Secret Senses', 'The Joy Luck Club', \"The Kitchen God's Wife\", 'The Last Juror', 'The Little Friend', 'The Little Prince', \"The Lost Boy: A Foster Child's Search for the Love of a Family\", 'The Lost World', 'The Lovely Bones: A Novel', 'The Mists of Avalon', 'The Nanny Diaries: A Novel', 'The Partner', 'The Perfect Husband', \"The Pilot's Wife\", 'The Poisonwood Bible', 'The Poisonwood Bible: A Novel', 'The Prince of Tides', 'The Regulators', 'The Robber Bride', 'The Secret Life of Bees', 'The Stone Diaries', 'The Testament', 'The Tommyknockers', 'The Ugly Duckling', 'The Virgin Suicides', 'Timeline', 'To Kill a Mockingbird', \"Tom Clancy's Op-Center: Mirror Image (Tom Clancy's Op Center (Paperback))\", 'Toxin', \"Tuesdays with Morrie: An Old Man, a Young Man, and Life's Greatest Lesson\", 'Turtle Moon', 'Violin', 'Waiting to Exhale', 'Wanderlust', 'Watership Down', 'We Were the Mulvaneys', \"We'll Meet Again\", 'Welcome to the World, Baby Girl!', 'When the Wind Blows', \"Where the Heart Is (Oprah's Book Club (Paperback))\", 'Whispers', 'Wicked: The Life and Times of the Wicked Witch of the West', 'Wild Animus', 'Zen and the Art of Motorcycle Maintenance: An Inquiry into Values', '\\\\O\\\\\" Is for Outlaw\"']\n"
     ]
    }
   ],
   "source": [
    "corr_coffey_hands = corr[coffey_hands]\n",
    "\n",
    "print(list(book_title[(corr_coffey_hands <= 0.9)]))"
   ]
  },
  {
   "cell_type": "code",
   "execution_count": null,
   "metadata": {},
   "outputs": [],
   "source": []
  }
 ],
 "metadata": {
  "kernelspec": {
   "display_name": "Python 3",
   "language": "python",
   "name": "python3"
  },
  "language_info": {
   "codemirror_mode": {
    "name": "ipython",
    "version": 3
   },
   "file_extension": ".py",
   "mimetype": "text/x-python",
   "name": "python",
   "nbconvert_exporter": "python",
   "pygments_lexer": "ipython3",
   "version": "3.7.4"
  }
 },
 "nbformat": 4,
 "nbformat_minor": 2
}
